{
 "cells": [
  {
   "cell_type": "code",
   "execution_count": 2,
   "metadata": {
    "collapsed": true
   },
   "outputs": [],
   "source": [
    "from __future__ import absolute_import\n",
    "from __future__ import print_function\n",
    "from __future__ import unicode_literals\n",
    "from __future__ import division\n",
    "\n",
    "from glob import glob\n",
    "\n",
    "import sys\n",
    "import argparse\n",
    "import numpy as np\n",
    "from scipy.stats import norm\n",
    "import tensorflow as tf\n",
    "import matplotlib.pyplot as plt\n",
    "from matplotlib import animation\n",
    "import seaborn as sns\n",
    "%matplotlib inline\n",
    "\n",
    "sns.set(color_codes=True)\n",
    "\n",
    "seed = 42\n",
    "np.random.seed(seed)\n",
    "tf.set_random_seed(seed)\n"
   ]
  },
  {
   "cell_type": "code",
   "execution_count": 3,
   "metadata": {
    "collapsed": false
   },
   "outputs": [],
   "source": [
    "\n",
    "\n",
    "def _weight_variable(shape):\n",
    "    initial = tf.truncated_normal(stddev=0.1, shape=shape)\n",
    "    return tf.get_variable('W', initializer=initial)\n",
    "\n",
    "def _bias_variable(shape):\n",
    "    initial = tf.constant(value=0.1, shape=shape)\n",
    "    return tf.get_variable('b', initializer=initial)\n",
    "\n",
    "def _linear(input, out_dim):\n",
    "\n",
    "    in_dim = input.get_shape().as_list()[-1]\n",
    "    mat_shape = in_dim, out_dim\n",
    "    W = _weight_variable(mat_shape)\n",
    "\n",
    "    b = _bias_variable([out_dim])\n",
    "\n",
    "    return tf.matmul(input, W) + b\n",
    "\n",
    "def _fully(input, width, scope_name):\n",
    "    with tf.variable_scope(scope_name):\n",
    "        pre_activation = _linear(input, width)\n",
    "    return tf.nn.relu(pre_activation)\n",
    "\n"
   ]
  },
  {
   "cell_type": "code",
   "execution_count": 4,
   "metadata": {
    "collapsed": false
   },
   "outputs": [],
   "source": [
    "x = tf.placeholder(tf.float32, [None, 1])\n",
    "fc1 = _fully(x, 10, 'fc1')\n",
    "fc2 = _fully(x, 10, 'fc2')\n",
    "y = _fully(fc1, 1, 'fc3')"
   ]
  },
  {
   "cell_type": "code",
   "execution_count": 5,
   "metadata": {
    "collapsed": false
   },
   "outputs": [
    {
     "name": "stdout",
     "output_type": "stream",
     "text": [
      "fc1/W:0\n",
      "fc1/b:0\n",
      "fc2/W:0\n",
      "fc2/b:0\n",
      "fc3/W:0\n",
      "fc3/b:0\n"
     ]
    }
   ],
   "source": [
    "for v in tf.trainable_variables(): print(v.name)"
   ]
  },
  {
   "cell_type": "code",
   "execution_count": null,
   "metadata": {
    "collapsed": true
   },
   "outputs": [],
   "source": [
    "with tf.Session as sess:\n",
    "    y.eval(feed_dict={x: })"
   ]
  }
 ],
 "metadata": {
  "kernelspec": {
   "display_name": "Python 2",
   "language": "python",
   "name": "python2"
  },
  "language_info": {
   "codemirror_mode": {
    "name": "ipython",
    "version": 2
   },
   "file_extension": ".py",
   "mimetype": "text/x-python",
   "name": "python",
   "nbconvert_exporter": "python",
   "pygments_lexer": "ipython2",
   "version": "2.7.12"
  }
 },
 "nbformat": 4,
 "nbformat_minor": 1
}
