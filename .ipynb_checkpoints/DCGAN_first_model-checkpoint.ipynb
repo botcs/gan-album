{
 "cells": [
  {
   "cell_type": "code",
   "execution_count": 1,
   "metadata": {
    "collapsed": true
   },
   "outputs": [],
   "source": [
    "from __future__ import absolute_import\n",
    "from __future__ import print_function\n",
    "from __future__ import unicode_literals\n",
    "from __future__ import division"
   ]
  },
  {
   "cell_type": "code",
   "execution_count": 2,
   "metadata": {
    "collapsed": true
   },
   "outputs": [],
   "source": [
    "import sys\n",
    "import argparse\n",
    "import numpy as np\n",
    "from scipy.stats import norm\n",
    "import tensorflow as tf\n",
    "import matplotlib.pyplot as plt\n",
    "from matplotlib import animation\n",
    "import seaborn as sns\n",
    "%matplotlib inline\n",
    "\n",
    "sns.set(color_codes=True)\n",
    "\n",
    "seed = 42\n",
    "np.random.seed(seed)\n",
    "tf.set_random_seed(seed)"
   ]
  },
  {
   "cell_type": "code",
   "execution_count": 3,
   "metadata": {
    "collapsed": true
   },
   "outputs": [],
   "source": [
    "import tensorflow as tf\n",
    "import numpy as np\n",
    "from ops import *\n",
    "import sampler"
   ]
  },
  {
   "cell_type": "code",
   "execution_count": 4,
   "metadata": {
    "collapsed": true
   },
   "outputs": [],
   "source": [
    "def generator(out_dim=[32, 32], reuse=False):\n",
    "    if reuse:\n",
    "        tf.get_variable_scope().reuse_variables()\n",
    "    \n",
    "    \n",
    "    z = tf.placeholder(dtype=tf.float32, shape=[None, 100], name='z')\n",
    "    D = max(out_dim) * 16\n",
    "    \n",
    "    h0 = linear(z, out_dim=out_dim[0]//16 * out_dim[1]//16 * D, name='projection')\n",
    "    h0 = tf.reshape(h0, [-1, out_dim[0]//16, out_dim[1]//16, D])\n",
    "    \n",
    "    h1 = conv_T(h0, kernel_size=5, depth=D//2, name='conv1')\n",
    "    h1 = tf.nn.relu(h1)\n",
    "    \n",
    "    h2 = conv_T(h1, kernel_size=5, depth=D//4, name='conv2')\n",
    "    h2 = tf.nn.relu(h2)\n",
    "    \n",
    "    h3 = conv_T(h2, kernel_size=5, depth=D//8, name='conv3')\n",
    "    h3 = tf.nn.relu(h3)\n",
    "    \n",
    "    G = conv_T(h3, kernel_size=5, depth=3, name='conv4')\n",
    "    G = tf.nn.relu(G)\n",
    "    \n",
    "    return G"
   ]
  },
  {
   "cell_type": "code",
   "execution_count": 5,
   "metadata": {
    "collapsed": false
   },
   "outputs": [],
   "source": [
    "def discriminator(image, start_depth, reuse=False):\n",
    "    if reuse:\n",
    "        tf.get_variable_scope().reuse_variables()\n",
    "    \n",
    "    \n",
    "    D = start_depth\n",
    "    \n",
    "    h0 = conv(image, kernel_size=5, depth=D, name='conv1')\n",
    "    h0 = lrelu(h0)\n",
    "    \n",
    "    h1 = conv(h0, kernel_size=5, depth=D*2, name='conv2')\n",
    "    h1 = lrelu(h1)\n",
    "    \n",
    "    h2 = conv(h1, kernel_size=5, depth=D*4, name='conv3')\n",
    "    h2 = lrelu(h2)\n",
    "    \n",
    "    h3 = conv(h2, kernel_size=5, depth=D*8, name='conv4')\n",
    "    h3 = lrelu(h3)\n",
    "    \n",
    "    flat_dim = np.prod(h3.get_shape().as_list()[1:])\n",
    "    h3_flat = tf.reshape(h3, [-1, flat_dim])\n",
    "    D = linear(h3_flat, out_dim=1)\n",
    "    \n",
    "    return D"
   ]
  },
  {
   "cell_type": "code",
   "execution_count": 6,
   "metadata": {
    "collapsed": false
   },
   "outputs": [],
   "source": [
    "with tf.variable_scope('G') as scope:\n",
    "    G = generator()"
   ]
  },
  {
   "cell_type": "code",
   "execution_count": 7,
   "metadata": {
    "collapsed": false
   },
   "outputs": [],
   "source": [
    "with tf.variable_scope('D') as scope:\n",
    "    im_dim = [32, 32, 3]\n",
    "    im = tf.placeholder(dtype=tf.float32, shape=[None] + im_dim, name='real_image')\n",
    "    D_real = discriminator(im, 512)\n",
    "    D_fake = discriminator(G, 512, reuse=True)\n",
    "    "
   ]
  },
  {
   "cell_type": "code",
   "execution_count": 8,
   "metadata": {
    "collapsed": false,
    "scrolled": false
   },
   "outputs": [
    {
     "name": "stdout",
     "output_type": "stream",
     "text": [
      "Tensor(\"G/projection/W/read:0\", shape=(100, 2048), dtype=float32)\n",
      "Tensor(\"G/projection/b/read:0\", shape=(2048,), dtype=float32)\n",
      "Tensor(\"G/conv1/K/read:0\", shape=(5, 5, 256, 512), dtype=float32)\n",
      "Tensor(\"G/conv1/b/read:0\", shape=(256,), dtype=float32)\n",
      "Tensor(\"G/conv2/K/read:0\", shape=(5, 5, 128, 256), dtype=float32)\n",
      "Tensor(\"G/conv2/b/read:0\", shape=(128,), dtype=float32)\n",
      "Tensor(\"G/con3/K/read:0\", shape=(5, 5, 64, 128), dtype=float32)\n",
      "Tensor(\"G/con3/b/read:0\", shape=(64,), dtype=float32)\n",
      "Tensor(\"G/conv4/K/read:0\", shape=(5, 5, 3, 64), dtype=float32)\n",
      "Tensor(\"G/conv4/b/read:0\", shape=(3,), dtype=float32)\n",
      "Tensor(\"D/conv1/K/read:0\", shape=(5, 5, 3, 512), dtype=float32)\n",
      "Tensor(\"D/conv1/b/read:0\", shape=(512,), dtype=float32)\n",
      "Tensor(\"D/conv2/K/read:0\", shape=(5, 5, 512, 1024), dtype=float32)\n",
      "Tensor(\"D/conv2/b/read:0\", shape=(1024,), dtype=float32)\n",
      "Tensor(\"D/conv3/K/read:0\", shape=(5, 5, 1024, 2048), dtype=float32)\n",
      "Tensor(\"D/conv3/b/read:0\", shape=(2048,), dtype=float32)\n",
      "Tensor(\"D/conv4/K/read:0\", shape=(5, 5, 2048, 4096), dtype=float32)\n",
      "Tensor(\"D/conv4/b/read:0\", shape=(4096,), dtype=float32)\n",
      "Tensor(\"D/linear/W/read:0\", shape=(16384, 1), dtype=float32)\n",
      "Tensor(\"D/linear/b/read:0\", shape=(1,), dtype=float32)\n"
     ]
    }
   ],
   "source": [
    "#print(tf.get_default_graph().as_graph_def())\n",
    "for v in tf.trainable_variables(): print(v)"
   ]
  },
  {
   "cell_type": "code",
   "execution_count": 17,
   "metadata": {
    "collapsed": false
   },
   "outputs": [
    {
     "ename": "TypeError",
     "evalue": "foldl() takes at least 2 arguments (1 given)",
     "output_type": "error",
     "traceback": [
      "\u001b[0;31m---------------------------------------------------------------------------\u001b[0m",
      "\u001b[0;31mTypeError\u001b[0m                                 Traceback (most recent call last)",
      "\u001b[0;32m<ipython-input-17-327f35daec80>\u001b[0m in \u001b[0;36m<module>\u001b[0;34m()\u001b[0m\n\u001b[0;32m----> 1\u001b[0;31m \u001b[0mtf\u001b[0m\u001b[0;34m.\u001b[0m\u001b[0mfoldl\u001b[0m\u001b[0;34m(\u001b[0m\u001b[0mname\u001b[0m\u001b[0;34m=\u001b[0m\u001b[0;34m\"D/im:0\"\u001b[0m\u001b[0;34m)\u001b[0m\u001b[0;34m\u001b[0m\u001b[0m\n\u001b[0m",
      "\u001b[0;31mTypeError\u001b[0m: foldl() takes at least 2 arguments (1 given)"
     ]
    }
   ],
   "source": [
    "def summary(G, D1, D2, G_loss, D1_loss, D2_loss):\n",
    "    d_sum = tf.histogram_summary(\"d\", self.D)\n",
    "    d__sum = tf.histogram_summary(\"d_\", self.D_)\n",
    "    G_sum = tf.image_summary(\"G\", self.G)\n",
    "\n",
    "    d_loss_real_sum = tf.scalar_summary(\"d_loss_real\", self.d_loss_real)\n",
    "    d_loss_fake_sum = tf.scalar_summary(\"d_loss_fake\", self.d_loss_fake)"
   ]
  },
  {
   "cell_type": "code",
   "execution_count": 26,
   "metadata": {
    "collapsed": false
   },
   "outputs": [
    {
     "ename": "NameError",
     "evalue": "name 'config' is not defined",
     "output_type": "error",
     "traceback": [
      "\u001b[0;31m---------------------------------------------------------------------------\u001b[0m",
      "\u001b[0;31mNameError\u001b[0m                                 Traceback (most recent call last)",
      "\u001b[0;32m<ipython-input-26-c4f058696a43>\u001b[0m in \u001b[0;36m<module>\u001b[0;34m()\u001b[0m\n\u001b[1;32m     18\u001b[0m \u001b[0;34m\u001b[0m\u001b[0m\n\u001b[1;32m     19\u001b[0m     \u001b[0md_optim\u001b[0m \u001b[0;34m=\u001b[0m \u001b[0mtf\u001b[0m\u001b[0;34m.\u001b[0m\u001b[0mtrain\u001b[0m\u001b[0;34m.\u001b[0m\u001b[0mAdamOptimizer\u001b[0m\u001b[0;34m(\u001b[0m\u001b[0;36m0.0002\u001b[0m\u001b[0;34m,\u001b[0m \u001b[0mbeta1\u001b[0m\u001b[0;34m=\u001b[0m\u001b[0;36m0.5\u001b[0m\u001b[0;34m)\u001b[0m         \u001b[0;34m.\u001b[0m\u001b[0mminimize\u001b[0m\u001b[0;34m(\u001b[0m\u001b[0mD_loss\u001b[0m\u001b[0;34m,\u001b[0m \u001b[0mvar_list\u001b[0m\u001b[0;34m=\u001b[0m\u001b[0md_vars\u001b[0m\u001b[0;34m)\u001b[0m\u001b[0;34m\u001b[0m\u001b[0m\n\u001b[0;32m---> 20\u001b[0;31m     \u001b[0mg_optim\u001b[0m \u001b[0;34m=\u001b[0m \u001b[0mtf\u001b[0m\u001b[0;34m.\u001b[0m\u001b[0mtrain\u001b[0m\u001b[0;34m.\u001b[0m\u001b[0mAdamOptimizer\u001b[0m\u001b[0;34m(\u001b[0m\u001b[0mconfig\u001b[0m\u001b[0;34m.\u001b[0m\u001b[0mlearning_rate\u001b[0m\u001b[0;34m,\u001b[0m \u001b[0mbeta1\u001b[0m\u001b[0;34m=\u001b[0m\u001b[0mconfig\u001b[0m\u001b[0;34m.\u001b[0m\u001b[0mbeta1\u001b[0m\u001b[0;34m)\u001b[0m         \u001b[0;34m.\u001b[0m\u001b[0mminimize\u001b[0m\u001b[0;34m(\u001b[0m\u001b[0mg_loss\u001b[0m\u001b[0;34m,\u001b[0m \u001b[0mvar_list\u001b[0m\u001b[0;34m=\u001b[0m\u001b[0mself\u001b[0m\u001b[0;34m.\u001b[0m\u001b[0mg_vars\u001b[0m\u001b[0;34m)\u001b[0m\u001b[0;34m\u001b[0m\u001b[0m\n\u001b[0m\u001b[1;32m     21\u001b[0m \u001b[0;34m\u001b[0m\u001b[0m\n\u001b[1;32m     22\u001b[0m     d_optim.eval({'G/z:0':z_feed.next_batch(10), \n",
      "\u001b[0;31mNameError\u001b[0m: name 'config' is not defined"
     ]
    }
   ],
   "source": [
    "with tf.Session() as sess:\n",
    "    \n",
    "    tf.global_variables_initializer().run()\n",
    "    z_feed = sampler.LatentSampler(mean=.5, variance=.1, shape=[100])\n",
    "    y_feed = sampler.DataSampler(image_size=32, pre_load=False)\n",
    "    \n",
    "    # Modified code from https://github.com/carpedm20/DCGAN-tensorflow/blob/master/model.py#L100-L102\n",
    "    D_loss_real = tf.reduce_mean(tf.nn.sigmoid_cross_entropy_with_logits(D_real, tf.ones_like(D_real)))\n",
    "    D_loss_fake = tf.reduce_mean(tf.nn.sigmoid_cross_entropy_with_logits(D_fake, tf.zeros_like(D_fake)))\n",
    "    \n",
    "    D_loss = D_loss_real + D_loss_fake\n",
    "    G_loss = tf.reduce_mean(tf.nn.sigmoid_cross_entropy_with_logits(D_fake, tf.ones_like(D_fake)))\n",
    "    \n",
    "    \n",
    "    d_vars = [v for v in tf.trainable_variables() if v.name.startswith('D')]\n",
    "    v_vars = [v for v in tf.trainable_variables() if v.name.startswith('G')]\n",
    "    \n",
    "    \n",
    "    d_optim = tf.train.AdamOptimizer(0.0002, beta1=0.5) \\\n",
    "        .minimize(D_loss, var_list=d_vars)\n",
    "    g_optim = tf.train.AdamOptimizer(0.0002, beta1=0.5) \\\n",
    "        .minimize(g_loss, var_list=self.g_vars)\n",
    "        \n",
    "    d_optim.eval({'G/z:0':z_feed.next_batch(10), \n",
    "                  'D/im:0':y_feed.vanilla_next_batch(10)})\n",
    "    "
   ]
  },
  {
   "cell_type": "code",
   "execution_count": 24,
   "metadata": {
    "collapsed": false
   },
   "outputs": [
    {
     "name": "stdout",
     "output_type": "stream",
     "text": [
      "Tensor(\"D/conv1/K/read:0\", shape=(5, 5, 3, 512), dtype=float32)\n",
      "Tensor(\"D/conv1/b/read:0\", shape=(512,), dtype=float32)\n",
      "Tensor(\"D/conv2/K/read:0\", shape=(5, 5, 512, 1024), dtype=float32)\n",
      "Tensor(\"D/conv2/b/read:0\", shape=(1024,), dtype=float32)\n",
      "Tensor(\"D/conv3/K/read:0\", shape=(5, 5, 1024, 2048), dtype=float32)\n",
      "Tensor(\"D/conv3/b/read:0\", shape=(2048,), dtype=float32)\n",
      "Tensor(\"D/conv4/K/read:0\", shape=(5, 5, 2048, 4096), dtype=float32)\n",
      "Tensor(\"D/conv4/b/read:0\", shape=(4096,), dtype=float32)\n",
      "Tensor(\"D/linear/W/read:0\", shape=(16384, 1), dtype=float32)\n",
      "Tensor(\"D/linear/b/read:0\", shape=(1,), dtype=float32)\n"
     ]
    },
    {
     "data": {
      "text/plain": [
       "[None, None, None, None, None, None, None, None, None, None]"
      ]
     },
     "execution_count": 24,
     "metadata": {},
     "output_type": "execute_result"
    }
   ],
   "source": [
    "[v for v in tf.trainable_variables() if v.name.startswith('D')]\n"
   ]
  },
  {
   "cell_type": "code",
   "execution_count": 11,
   "metadata": {
    "collapsed": false
   },
   "outputs": [
    {
     "data": {
      "text/plain": [
       "<tf.Tensor 'G/Relu_3:0' shape=(?, 32, 32, 3) dtype=float32>"
      ]
     },
     "execution_count": 11,
     "metadata": {},
     "output_type": "execute_result"
    }
   ],
   "source": [
    "G"
   ]
  },
  {
   "cell_type": "code",
   "execution_count": 12,
   "metadata": {
    "collapsed": false
   },
   "outputs": [
    {
     "data": {
      "text/plain": [
       "(1, 100)"
      ]
     },
     "execution_count": 12,
     "metadata": {},
     "output_type": "execute_result"
    }
   ],
   "source": [
    "z_feed.next_batch(1).shape"
   ]
  },
  {
   "cell_type": "code",
   "execution_count": 15,
   "metadata": {
    "collapsed": false
   },
   "outputs": [
    {
     "ename": "TypeError",
     "evalue": "Invalid dimensions for image data",
     "output_type": "error",
     "traceback": [
      "\u001b[0;31m---------------------------------------------------------------------------\u001b[0m",
      "\u001b[0;31mTypeError\u001b[0m                                 Traceback (most recent call last)",
      "\u001b[0;32m<ipython-input-15-1166fd48dfc4>\u001b[0m in \u001b[0;36m<module>\u001b[0;34m()\u001b[0m\n\u001b[0;32m----> 1\u001b[0;31m \u001b[0mplt\u001b[0m\u001b[0;34m.\u001b[0m\u001b[0mimshow\u001b[0m\u001b[0;34m(\u001b[0m\u001b[0mtest\u001b[0m\u001b[0;34m[\u001b[0m\u001b[0;36m0\u001b[0m\u001b[0;34m:\u001b[0m\u001b[0;36m3\u001b[0m\u001b[0;34m]\u001b[0m\u001b[0;34m)\u001b[0m\u001b[0;34m\u001b[0m\u001b[0m\n\u001b[0m",
      "\u001b[0;32m/usr/lib/python2.7/dist-packages/matplotlib/pyplot.pyc\u001b[0m in \u001b[0;36mimshow\u001b[0;34m(X, cmap, norm, aspect, interpolation, alpha, vmin, vmax, origin, extent, shape, filternorm, filterrad, imlim, resample, url, hold, data, **kwargs)\u001b[0m\n\u001b[1;32m   3020\u001b[0m                         \u001b[0mfilternorm\u001b[0m\u001b[0;34m=\u001b[0m\u001b[0mfilternorm\u001b[0m\u001b[0;34m,\u001b[0m \u001b[0mfilterrad\u001b[0m\u001b[0;34m=\u001b[0m\u001b[0mfilterrad\u001b[0m\u001b[0;34m,\u001b[0m\u001b[0;34m\u001b[0m\u001b[0m\n\u001b[1;32m   3021\u001b[0m                         \u001b[0mimlim\u001b[0m\u001b[0;34m=\u001b[0m\u001b[0mimlim\u001b[0m\u001b[0;34m,\u001b[0m \u001b[0mresample\u001b[0m\u001b[0;34m=\u001b[0m\u001b[0mresample\u001b[0m\u001b[0;34m,\u001b[0m \u001b[0murl\u001b[0m\u001b[0;34m=\u001b[0m\u001b[0murl\u001b[0m\u001b[0;34m,\u001b[0m \u001b[0mdata\u001b[0m\u001b[0;34m=\u001b[0m\u001b[0mdata\u001b[0m\u001b[0;34m,\u001b[0m\u001b[0;34m\u001b[0m\u001b[0m\n\u001b[0;32m-> 3022\u001b[0;31m                         **kwargs)\n\u001b[0m\u001b[1;32m   3023\u001b[0m     \u001b[0;32mfinally\u001b[0m\u001b[0;34m:\u001b[0m\u001b[0;34m\u001b[0m\u001b[0m\n\u001b[1;32m   3024\u001b[0m         \u001b[0max\u001b[0m\u001b[0;34m.\u001b[0m\u001b[0mhold\u001b[0m\u001b[0;34m(\u001b[0m\u001b[0mwashold\u001b[0m\u001b[0;34m)\u001b[0m\u001b[0;34m\u001b[0m\u001b[0m\n",
      "\u001b[0;32m/usr/lib/python2.7/dist-packages/matplotlib/__init__.pyc\u001b[0m in \u001b[0;36minner\u001b[0;34m(ax, *args, **kwargs)\u001b[0m\n\u001b[1;32m   1812\u001b[0m                     warnings.warn(msg % (label_namer, func.__name__),\n\u001b[1;32m   1813\u001b[0m                                   RuntimeWarning, stacklevel=2)\n\u001b[0;32m-> 1814\u001b[0;31m             \u001b[0;32mreturn\u001b[0m \u001b[0mfunc\u001b[0m\u001b[0;34m(\u001b[0m\u001b[0max\u001b[0m\u001b[0;34m,\u001b[0m \u001b[0;34m*\u001b[0m\u001b[0margs\u001b[0m\u001b[0;34m,\u001b[0m \u001b[0;34m**\u001b[0m\u001b[0mkwargs\u001b[0m\u001b[0;34m)\u001b[0m\u001b[0;34m\u001b[0m\u001b[0m\n\u001b[0m\u001b[1;32m   1815\u001b[0m         \u001b[0mpre_doc\u001b[0m \u001b[0;34m=\u001b[0m \u001b[0minner\u001b[0m\u001b[0;34m.\u001b[0m\u001b[0m__doc__\u001b[0m\u001b[0;34m\u001b[0m\u001b[0m\n\u001b[1;32m   1816\u001b[0m         \u001b[0;32mif\u001b[0m \u001b[0mpre_doc\u001b[0m \u001b[0;32mis\u001b[0m \u001b[0mNone\u001b[0m\u001b[0;34m:\u001b[0m\u001b[0;34m\u001b[0m\u001b[0m\n",
      "\u001b[0;32m/usr/lib/python2.7/dist-packages/matplotlib/axes/_axes.pyc\u001b[0m in \u001b[0;36mimshow\u001b[0;34m(self, X, cmap, norm, aspect, interpolation, alpha, vmin, vmax, origin, extent, shape, filternorm, filterrad, imlim, resample, url, **kwargs)\u001b[0m\n\u001b[1;32m   4945\u001b[0m                               resample=resample, **kwargs)\n\u001b[1;32m   4946\u001b[0m \u001b[0;34m\u001b[0m\u001b[0m\n\u001b[0;32m-> 4947\u001b[0;31m         \u001b[0mim\u001b[0m\u001b[0;34m.\u001b[0m\u001b[0mset_data\u001b[0m\u001b[0;34m(\u001b[0m\u001b[0mX\u001b[0m\u001b[0;34m)\u001b[0m\u001b[0;34m\u001b[0m\u001b[0m\n\u001b[0m\u001b[1;32m   4948\u001b[0m         \u001b[0mim\u001b[0m\u001b[0;34m.\u001b[0m\u001b[0mset_alpha\u001b[0m\u001b[0;34m(\u001b[0m\u001b[0malpha\u001b[0m\u001b[0;34m)\u001b[0m\u001b[0;34m\u001b[0m\u001b[0m\n\u001b[1;32m   4949\u001b[0m         \u001b[0;32mif\u001b[0m \u001b[0mim\u001b[0m\u001b[0;34m.\u001b[0m\u001b[0mget_clip_path\u001b[0m\u001b[0;34m(\u001b[0m\u001b[0;34m)\u001b[0m \u001b[0;32mis\u001b[0m \u001b[0mNone\u001b[0m\u001b[0;34m:\u001b[0m\u001b[0;34m\u001b[0m\u001b[0m\n",
      "\u001b[0;32m/usr/lib/python2.7/dist-packages/matplotlib/image.pyc\u001b[0m in \u001b[0;36mset_data\u001b[0;34m(self, A)\u001b[0m\n\u001b[1;32m    451\u001b[0m         if (self._A.ndim not in (2, 3) or\n\u001b[1;32m    452\u001b[0m                 (self._A.ndim == 3 and self._A.shape[-1] not in (3, 4))):\n\u001b[0;32m--> 453\u001b[0;31m             \u001b[0;32mraise\u001b[0m \u001b[0mTypeError\u001b[0m\u001b[0;34m(\u001b[0m\u001b[0;34m\"Invalid dimensions for image data\"\u001b[0m\u001b[0;34m)\u001b[0m\u001b[0;34m\u001b[0m\u001b[0m\n\u001b[0m\u001b[1;32m    454\u001b[0m \u001b[0;34m\u001b[0m\u001b[0m\n\u001b[1;32m    455\u001b[0m         \u001b[0mself\u001b[0m\u001b[0;34m.\u001b[0m\u001b[0m_imcache\u001b[0m \u001b[0;34m=\u001b[0m \u001b[0mNone\u001b[0m\u001b[0;34m\u001b[0m\u001b[0m\n",
      "\u001b[0;31mTypeError\u001b[0m: Invalid dimensions for image data"
     ]
    },
    {
     "data": {
      "image/png": "[encoded data removed]",
      "text/plain": [
       "<matplotlib.figure.Figure at 0x7f812583a4d0>"
      ]
     },
     "metadata": {},
     "output_type": "display_data"
    }
   ],
   "source": []
  },
  {
   "cell_type": "code",
   "execution_count": null,
   "metadata": {
    "collapsed": true
   },
   "outputs": [],
   "source": []
  }
 ],
 "metadata": {
  "kernelspec": {
   "display_name": "Python 2",
   "language": "python",
   "name": "python2"
  },
  "language_info": {
   "codemirror_mode": {
    "name": "ipython",
    "version": 2
   },
   "file_extension": ".py",
   "mimetype": "text/x-python",
   "name": "python",
   "nbconvert_exporter": "python",
   "pygments_lexer": "ipython2",
   "version": "2.7.12"
  }
 },
 "nbformat": 4,
 "nbformat_minor": 1
}
