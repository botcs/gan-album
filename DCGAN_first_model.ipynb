{
 "cells": [
  {
   "cell_type": "code",
   "execution_count": 1,
   "metadata": {
    "collapsed": true
   },
   "outputs": [],
   "source": [
    "from __future__ import absolute_import\n",
    "from __future__ import print_function\n",
    "from __future__ import unicode_literals\n",
    "from __future__ import division"
   ]
  },
  {
   "cell_type": "code",
   "execution_count": 2,
   "metadata": {
    "collapsed": true
   },
   "outputs": [],
   "source": [
    "import sys\n",
    "import argparse\n",
    "import numpy as np\n",
    "from scipy.stats import norm\n",
    "import tensorflow as tf\n",
    "import matplotlib.pyplot as plt\n",
    "from matplotlib import animation\n",
    "import seaborn as sns\n",
    "%matplotlib inline\n",
    "\n",
    "sns.set(color_codes=True)\n",
    "\n",
    "seed = 42\n",
    "np.random.seed(seed)\n",
    "tf.set_random_seed(seed)"
   ]
  },
  {
   "cell_type": "code",
   "execution_count": 1,
   "metadata": {
    "collapsed": true
   },
   "outputs": [],
   "source": [
    "import tensorflow as tf\n",
    "import numpy as np\n",
    "from ops import *\n",
    "import sampler"
   ]
  },
  {
   "cell_type": "code",
   "execution_count": 2,
   "metadata": {
    "collapsed": true
   },
   "outputs": [],
   "source": [
    "def generator(start_depth, out_dim=[32, 32], reuse=False):\n",
    "    if reuse:\n",
    "        tf.get_variable_scope().reuse_variables()\n",
    "    \n",
    "    \n",
    "    z = tf.placeholder(dtype=tf.float32, shape=[None, 100])\n",
    "    D = start_depth\n",
    "    \n",
    "    h0 = linear(z, out_dim=D * np.prod(out_dim), name='projection')\n",
    "    h0 = tf.reshape(h0, [-1, out_dim[0]//16, out_dim[1]//16, D])\n",
    "    \n",
    "    h1 = conv_T(h0, kernel_size=5, depth=D//2, name='conv1')\n",
    "    h1 = tf.nn.relu(h1)\n",
    "    \n",
    "    h2 = conv_T(h1, kernel_size=5, depth=D//4, name='conv2')\n",
    "    h2 = tf.nn.relu(h2)\n",
    "    \n",
    "    h3 = conv_T(h2, kernel_size=5, depth=D//8, name='con3')\n",
    "    h3 = tf.nn.relu(h3)\n",
    "    \n",
    "    G = conv_T(h3, kernel_size=5, depth=3, name='conv4')\n",
    "    G = tf.nn.relu(G)\n",
    "    \n",
    "    return G"
   ]
  },
  {
   "cell_type": "code",
   "execution_count": 3,
   "metadata": {
    "collapsed": false
   },
   "outputs": [],
   "source": [
    "def discriminator(start_depth, im_dim=[32, 32, 3], reuse=False):\n",
    "    if reuse:\n",
    "        tf.get_variable_scope().reuse_variables()\n",
    "    \n",
    "    im = tf.placeholder(dtype=tf.float32, shape=[None] + im_dim)\n",
    "    D = start_depth\n",
    "    \n",
    "    h0 = conv(im, kernel_size=5, depth=D, name='conv1')\n",
    "    h0 = lrelu(tf.nn.bh0)\n",
    "    \n",
    "    h1 = conv(h0, kernel_size=5, depth=D*2, name='conv2')\n",
    "    h1 = lrelu(h1)\n",
    "    \n",
    "    h2 = conv(h2, kernel_size=5, depth=D*4, name='conv3')\n",
    "    h2 = lrelu(h2)\n",
    "    \n",
    "    h3 = conv(h1, kernel_size=5, depth=D*8, name='conv4')\n",
    "    h3 = lrelu(h3)\n",
    "    \n",
    "    h4 = linear(tf.reshape(h3, [None, -1]), out_dim=1)\n",
    "    \n",
    "    D = tf.nn.sigmoid(h4, name='linear')\n",
    "    \n",
    "    return D"
   ]
  },
  {
   "cell_type": "code",
   "execution_count": 4,
   "metadata": {
    "collapsed": false
   },
   "outputs": [],
   "source": [
    "with tf.variable_scope('G') as scope:\n",
    "    G = generator(512)"
   ]
  },
  {
   "cell_type": "code",
   "execution_count": 5,
   "metadata": {
    "collapsed": false
   },
   "outputs": [
    {
     "name": "stdout",
     "output_type": "stream",
     "text": [
      "Tensor(\"G/projection/W/read:0\", shape=(100, 524288), dtype=float32)\n",
      "Tensor(\"G/projection/b/read:0\", shape=(524288,), dtype=float32)\n",
      "Tensor(\"G/conv1/K/read:0\", shape=(5, 5, 256, 512), dtype=float32)\n",
      "Tensor(\"G/conv1/b/read:0\", shape=(256,), dtype=float32)\n",
      "Tensor(\"G/conv2/K/read:0\", shape=(5, 5, 128, 256), dtype=float32)\n",
      "Tensor(\"G/conv2/b/read:0\", shape=(128,), dtype=float32)\n",
      "Tensor(\"G/con3/K/read:0\", shape=(5, 5, 64, 128), dtype=float32)\n",
      "Tensor(\"G/con3/b/read:0\", shape=(64,), dtype=float32)\n",
      "Tensor(\"G/conv4/K/read:0\", shape=(5, 5, 3, 64), dtype=float32)\n",
      "Tensor(\"G/conv4/b/read:0\", shape=(3,), dtype=float32)\n"
     ]
    }
   ],
   "source": [
    "for v in tf.trainable_variables(): print(v)"
   ]
  },
  {
   "cell_type": "code",
   "execution_count": 7,
   "metadata": {
    "collapsed": false
   },
   "outputs": [],
   "source": [
    "with tf.variable_scope('D') as scope:\n",
    "    D = generator(512)"
   ]
  },
  {
   "cell_type": "code",
   "execution_count": 8,
   "metadata": {
    "collapsed": false
   },
   "outputs": [
    {
     "name": "stdout",
     "output_type": "stream",
     "text": [
      "Tensor(\"G/projection/W/read:0\", shape=(100, 524288), dtype=float32)\n",
      "Tensor(\"G/projection/b/read:0\", shape=(524288,), dtype=float32)\n",
      "Tensor(\"G/conv1/K/read:0\", shape=(5, 5, 256, 512), dtype=float32)\n",
      "Tensor(\"G/conv1/b/read:0\", shape=(256,), dtype=float32)\n",
      "Tensor(\"G/conv2/K/read:0\", shape=(5, 5, 128, 256), dtype=float32)\n",
      "Tensor(\"G/conv2/b/read:0\", shape=(128,), dtype=float32)\n",
      "Tensor(\"G/con3/K/read:0\", shape=(5, 5, 64, 128), dtype=float32)\n",
      "Tensor(\"G/con3/b/read:0\", shape=(64,), dtype=float32)\n",
      "Tensor(\"G/conv4/K/read:0\", shape=(5, 5, 3, 64), dtype=float32)\n",
      "Tensor(\"G/conv4/b/read:0\", shape=(3,), dtype=float32)\n",
      "Tensor(\"D/projection/W/read:0\", shape=(100, 524288), dtype=float32)\n",
      "Tensor(\"D/projection/b/read:0\", shape=(524288,), dtype=float32)\n",
      "Tensor(\"D/conv1/K/read:0\", shape=(5, 5, 256, 512), dtype=float32)\n",
      "Tensor(\"D/conv1/b/read:0\", shape=(256,), dtype=float32)\n",
      "Tensor(\"D/conv2/K/read:0\", shape=(5, 5, 128, 256), dtype=float32)\n",
      "Tensor(\"D/conv2/b/read:0\", shape=(128,), dtype=float32)\n",
      "Tensor(\"D/con3/K/read:0\", shape=(5, 5, 64, 128), dtype=float32)\n",
      "Tensor(\"D/con3/b/read:0\", shape=(64,), dtype=float32)\n",
      "Tensor(\"D/conv4/K/read:0\", shape=(5, 5, 3, 64), dtype=float32)\n",
      "Tensor(\"D/conv4/b/read:0\", shape=(3,), dtype=float32)\n"
     ]
    }
   ],
   "source": [
    "for v in tf.trainable_variables(): print(v)"
   ]
  },
  {
   "cell_type": "code",
   "execution_count": null,
   "metadata": {
    "collapsed": true
   },
   "outputs": [],
   "source": []
  }
 ],
 "metadata": {
  "kernelspec": {
   "display_name": "Python 2",
   "language": "python",
   "name": "python2"
  },
  "language_info": {
   "codemirror_mode": {
    "name": "ipython",
    "version": 2
   },
   "file_extension": ".py",
   "mimetype": "text/x-python",
   "name": "python",
   "nbconvert_exporter": "python",
   "pygments_lexer": "ipython2",
   "version": "2.7.12"
  }
 },
 "nbformat": 4,
 "nbformat_minor": 1
}
