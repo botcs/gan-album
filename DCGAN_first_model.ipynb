{
 "cells": [
  {
   "cell_type": "code",
   "execution_count": 1,
   "metadata": {
    "collapsed": true
   },
   "outputs": [],
   "source": [
    "from __future__ import absolute_import\n",
    "from __future__ import print_function\n",
    "from __future__ import unicode_literals\n",
    "from __future__ import division"
   ]
  },
  {
   "cell_type": "code",
   "execution_count": 2,
   "metadata": {
    "collapsed": true
   },
   "outputs": [],
   "source": [
    "import sys\n",
    "import argparse\n",
    "import numpy as np\n",
    "from scipy.stats import norm\n",
    "import tensorflow as tf\n",
    "import matplotlib.pyplot as plt\n",
    "from matplotlib import animation\n",
    "import seaborn as sns\n",
    "%matplotlib inline\n",
    "\n",
    "sns.set(color_codes=True)\n",
    "\n",
    "seed = 42\n",
    "np.random.seed(seed)\n",
    "tf.set_random_seed(seed)"
   ]
  },
  {
   "cell_type": "code",
   "execution_count": 3,
   "metadata": {
    "collapsed": true
   },
   "outputs": [],
   "source": [
    "import tensorflow as tf\n",
    "import numpy as np\n",
    "from ops import *\n",
    "import sampler"
   ]
  },
  {
   "cell_type": "code",
   "execution_count": 4,
   "metadata": {
    "collapsed": true
   },
   "outputs": [],
   "source": [
    "def generator(start_depth, out_dim=[32, 32], reuse=False):\n",
    "    if reuse:\n",
    "        tf.get_variable_scope().reuse_variables()\n",
    "    \n",
    "    \n",
    "    z = tf.placeholder(dtype=tf.float32, shape=[None, 100])\n",
    "    D = start_depth\n",
    "    \n",
    "    h0 = linear(z, out_dim=D * np.prod(out_dim), name='projection')\n",
    "    h0 = tf.reshape(h0, [-1, out_dim[0]//16, out_dim[1]//16, D])\n",
    "    \n",
    "    h1 = conv_T(h0, kernel_size=5, depth=D//2, name='conv1')\n",
    "    h1 = tf.nn.relu(h1)\n",
    "    \n",
    "    h2 = conv_T(h1, kernel_size=5, depth=D//4, name='conv2')\n",
    "    h2 = tf.nn.relu(h2)\n",
    "    \n",
    "    h3 = conv_T(h2, kernel_size=5, depth=D//8, name='con3')\n",
    "    h3 = tf.nn.relu(h3)\n",
    "    \n",
    "    G = conv_T(h3, kernel_size=5, depth=3, name='conv4')\n",
    "    G = tf.nn.relu(G)\n",
    "    \n",
    "    return G"
   ]
  },
  {
   "cell_type": "code",
   "execution_count": 8,
   "metadata": {
    "collapsed": false
   },
   "outputs": [],
   "source": [
    "def discriminator(image, start_depth, reuse=False):\n",
    "    if reuse:\n",
    "        tf.get_variable_scope().reuse_variables()\n",
    "    \n",
    "    \n",
    "    D = start_depth\n",
    "    \n",
    "    h0 = conv(image, kernel_size=5, depth=D, name='conv1')\n",
    "    h0 = lrelu(h0)\n",
    "    \n",
    "    h1 = conv(h0, kernel_size=5, depth=D*2, name='conv2')\n",
    "    h1 = lrelu(h1)\n",
    "    \n",
    "    h2 = conv(h1, kernel_size=5, depth=D*4, name='conv3')\n",
    "    h2 = lrelu(h2)\n",
    "    \n",
    "    h3 = conv(h2, kernel_size=5, depth=D*8, name='conv4')\n",
    "    h3 = lrelu(h3)\n",
    "    \n",
    "    flat_dim = np.prod(h3.get_shape().as_list()[1:])\n",
    "    h3_flat = tf.reshape(h3, [-1, flat_dim])\n",
    "    h4 = linear(h3_flat, out_dim=1)\n",
    "    \n",
    "    D = tf.nn.sigmoid(h4, name='linear')\n",
    "    \n",
    "    return D"
   ]
  },
  {
   "cell_type": "code",
   "execution_count": 12,
   "metadata": {
    "collapsed": false
   },
   "outputs": [],
   "source": [
    "with tf.variable_scope('G') as scope:\n",
    "    G = generator(512)"
   ]
  },
  {
   "cell_type": "code",
   "execution_count": 14,
   "metadata": {
    "collapsed": false
   },
   "outputs": [],
   "source": [
    "with tf.variable_scope('D') as scope:\n",
    "    im_dim = [32, 32, 3]\n",
    "    im = tf.placeholder(dtype=tf.float32, shape=[None] + im_dim, name='real_image')\n",
    "    D_real = discriminator(im, 512)\n",
    "    D_fake = discriminator(G, 512, reuse=True)\n",
    "    "
   ]
  },
  {
   "cell_type": "code",
   "execution_count": 12,
   "metadata": {
    "collapsed": false
   },
   "outputs": [
    {
     "name": "stdout",
     "output_type": "stream",
     "text": [
      "Tensor(\"strided_slice_2:0\", shape=(), dtype=int32)\n",
      "(?, 32, 32, 3)\n"
     ]
    }
   ],
   "source": [
    "print(tf.shape(im)[0])\n",
    "print(im.get_shape())"
   ]
  },
  {
   "cell_type": "code",
   "execution_count": 8,
   "metadata": {
    "collapsed": false
   },
   "outputs": [
    {
     "name": "stdout",
     "output_type": "stream",
     "text": [
      "Tensor(\"G/projection/W/read:0\", shape=(100, 524288), dtype=float32)\n",
      "Tensor(\"G/projection/b/read:0\", shape=(524288,), dtype=float32)\n",
      "Tensor(\"G/conv1/K/read:0\", shape=(5, 5, 256, 512), dtype=float32)\n",
      "Tensor(\"G/conv1/b/read:0\", shape=(256,), dtype=float32)\n",
      "Tensor(\"G/conv2/K/read:0\", shape=(5, 5, 128, 256), dtype=float32)\n",
      "Tensor(\"G/conv2/b/read:0\", shape=(128,), dtype=float32)\n",
      "Tensor(\"G/con3/K/read:0\", shape=(5, 5, 64, 128), dtype=float32)\n",
      "Tensor(\"G/con3/b/read:0\", shape=(64,), dtype=float32)\n",
      "Tensor(\"G/conv4/K/read:0\", shape=(5, 5, 3, 64), dtype=float32)\n",
      "Tensor(\"G/conv4/b/read:0\", shape=(3,), dtype=float32)\n",
      "Tensor(\"D/projection/W/read:0\", shape=(100, 524288), dtype=float32)\n",
      "Tensor(\"D/projection/b/read:0\", shape=(524288,), dtype=float32)\n",
      "Tensor(\"D/conv1/K/read:0\", shape=(5, 5, 256, 512), dtype=float32)\n",
      "Tensor(\"D/conv1/b/read:0\", shape=(256,), dtype=float32)\n",
      "Tensor(\"D/conv2/K/read:0\", shape=(5, 5, 128, 256), dtype=float32)\n",
      "Tensor(\"D/conv2/b/read:0\", shape=(128,), dtype=float32)\n",
      "Tensor(\"D/con3/K/read:0\", shape=(5, 5, 64, 128), dtype=float32)\n",
      "Tensor(\"D/con3/b/read:0\", shape=(64,), dtype=float32)\n",
      "Tensor(\"D/conv4/K/read:0\", shape=(5, 5, 3, 64), dtype=float32)\n",
      "Tensor(\"D/conv4/b/read:0\", shape=(3,), dtype=float32)\n"
     ]
    }
   ],
   "source": [
    "for v in tf.trainable_variables(): print(v)"
   ]
  },
  {
   "cell_type": "code",
   "execution_count": null,
   "metadata": {
    "collapsed": true
   },
   "outputs": [],
   "source": []
  }
 ],
 "metadata": {
  "kernelspec": {
   "display_name": "Python 2",
   "language": "python",
   "name": "python2"
  },
  "language_info": {
   "codemirror_mode": {
    "name": "ipython",
    "version": 2
   },
   "file_extension": ".py",
   "mimetype": "text/x-python",
   "name": "python",
   "nbconvert_exporter": "python",
   "pygments_lexer": "ipython2",
   "version": "2.7.12"
  }
 },
 "nbformat": 4,
 "nbformat_minor": 1
}
